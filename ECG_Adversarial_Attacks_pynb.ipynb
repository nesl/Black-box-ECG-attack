{
  "nbformat": 4,
  "nbformat_minor": 0,
  "metadata": {
    "colab": {
      "name": "ECG_Adversarial_Attacks.pynb",
      "provenance": [],
      "collapsed_sections": []
    },
    "kernelspec": {
      "name": "python3",
      "display_name": "Python 3"
    }
  },
  "cells": [
    {
      "cell_type": "markdown",
      "metadata": {
        "id": "M8Lx0rXpxJZ9",
        "colab_type": "text"
      },
      "source": [
        "**Processing Data for White-Box Attack**\n"
      ]
    },
    {
      "cell_type": "code",
      "metadata": {
        "id": "IJxv11-iIbbK",
        "colab_type": "code",
        "colab": {
          "base_uri": "https://localhost:8080/",
          "height": 34
        },
        "outputId": "a99f396f-2835-48ed-c2d4-43118b961520"
      },
      "source": [
        "from google.colab import drive\n",
        "drive.mount('/content/drive')"
      ],
      "execution_count": 1,
      "outputs": [
        {
          "output_type": "stream",
          "text": [
            "Mounted at /content/drive\n"
          ],
          "name": "stdout"
        }
      ]
    },
    {
      "cell_type": "code",
      "metadata": {
        "colab_type": "code",
        "id": "ZNUTNOibWbev",
        "colab": {}
      },
      "source": [
        "# reinstall updated versions \n",
        "!pip install tensorflow\n",
        "!pip install keras\n",
        "!pip install cleverhans"
      ],
      "execution_count": null,
      "outputs": []
    },
    {
      "cell_type": "code",
      "metadata": {
        "colab_type": "code",
        "id": "MSM-y0dqWbe1",
        "colab": {}
      },
      "source": [
        "# create folder called ECGadv-master\n",
        "# store the downloaded entire repository from https://github.com/codespace123/ECGadv in ECG_advmaster\n",
        "# indices for all CORRECT classifications done by ECG classifying model\n",
        "\n",
        "# download the training data (training2017) from https://archive.physionet.org/challenge/2017/training2017.zip.\n",
        "# store in folder called ECG_v1\n",
        "# create a folder in ECG_v1 called Processed Data\n",
        "\n",
        "import csv\n",
        "import numpy as np\n",
        "import scipy.io\n",
        "\n",
        "csvfile_a = np.array(list(csv.reader(open(\"/content/drive/My Drive/ECGadv-master/data_select_A.csv\"))))[:,3]\n",
        "csvfile_a = [int(i) for i in csvfile_a]\n",
        "csvfile_n = np.array(list(csv.reader(open(\"/content/drive/My Drive/ECGadv-master/data_select_N.csv\"))))[:,3]\n",
        "csvfile_n = [int(i) for i in csvfile_n]\n",
        "csvfile_o = np.array(list(csv.reader(open(\"/content/drive/My Drive/ECGadv-master/data_select_O.csv\"))))[:,3]\n",
        "csvfile_o = [int(i) for i in csvfile_o]\n",
        "csvfile_i = np.array(list(csv.reader(open(\"/content/drive/My Drive/ECGadv-master/data_select_i.csv\"))))[:,3]\n",
        "csvfile_i = [int(i) for i in csvfile_i]\n",
        "print(csvfile_a)"
      ],
      "execution_count": null,
      "outputs": []
    },
    {
      "cell_type": "code",
      "metadata": {
        "colab_type": "code",
        "id": "hLCeEPYFWbe4",
        "colab": {}
      },
      "source": [
        "# PROCESSING ALL THE TRAINING DATA TO BE ATTACKED\n",
        "\n",
        "import scipy.io\n",
        "from glob import glob\n",
        "import numpy as np\n",
        "\n",
        "from natsort import natsorted\n",
        "files = natsorted(glob(\"/content/drive/My Drive/ECG_v1/training2017\"+ \"/*.mat\"))\n",
        "print(len(files))\n",
        "data = np.zeros((8529, 9000,1))\n",
        "num = 1\n",
        "for path in files:\n",
        "  if path.find(\"(\") == -1:\n",
        "    temp = scipy.io.loadmat(path)\n",
        "    temp = np.array(temp[\"val\"])\n",
        "    temp = np.nan_to_num(temp)\n",
        "    temp = temp[:,:9000]\n",
        "    temp = temp - np.mean(temp)\n",
        "    temp = temp / np.std(temp)\n",
        "    if temp.shape[1] < 9000:\n",
        "      temp = np.pad(temp,((0,0),(0,9000 - temp.shape[1])), 'constant')\n",
        "    temp = np.expand_dims(temp, axis = 2)\n",
        "    data[num] = temp\n",
        "    num += 1\n",
        "  if path.find(\"(\") != -1:\n",
        "    print(\"Duplicate\")\n",
        "    print(path)\n",
        "print(num-1)\n",
        "np.save(\"/content/drive/My Drive/ECGadv-master/ProcessedData/agg_data.npy\", data)"
      ],
      "execution_count": null,
      "outputs": []
    },
    {
      "cell_type": "code",
      "metadata": {
        "colab_type": "code",
        "id": "h6XpL5_EWbe6",
        "colab": {}
      },
      "source": [
        "# Reload the combined dataset\n",
        "\n",
        "data = np.load(\"/content/drive/My Drive/ECGadv-master/ProcessedData/agg_data.npy\")"
      ],
      "execution_count": null,
      "outputs": []
    },
    {
      "cell_type": "code",
      "metadata": {
        "colab_type": "code",
        "id": "EFrRVkB_Wbe9",
        "colab": {}
      },
      "source": [
        "# Separating out the individual ECG data from the aggregate combined dataset into 4 datasets\n",
        "\n",
        "import numpy as np\n",
        "from tensorflow.keras.models import load_model\n",
        "model = load_model(\"/content/drive/My Drive/ECG_v1/ecg_mit.hdf5\")\n",
        "for i in csvfile_a:\n",
        "  a = np.expand_dims(data[i,:,:],axis=0)\n",
        "  a = np.append(a, [[[0]]], axis = 1)\n",
        " \n",
        "  %cd\n",
        "  %cd /content/drive/My Drive/ECGadv-master/ProcessedData/A\n",
        "  np.save(\"A_{}\".format(i),a)\n",
        "\n",
        "for i in csvfile_n:\n",
        "  n = np.expand_dims(data[i,:,:],axis=0)\n",
        "  n = np.append(n, [[[1]]], axis = 1)\n",
        "\n",
        "  %cd\n",
        "  %cd /content/drive/My Drive/ECGadv-master/ProcessedData/N\n",
        "  np.save(\"N_{}\".format(i),n)\n",
        "\n",
        "for i in csvfile_o:\n",
        "  o = np.expand_dims(data[i,:,:],axis=0)\n",
        "  o = np.append(o, [[[2]]], axis = 1)\n",
        " \n",
        "  %cd\n",
        "  %cd /content/drive/My Drive/ECGadv-master/ProcessedData/O\n",
        "  np.save(\"O_{}\".format(i),o)\n",
        "\n",
        "for i in csvfile_i:\n",
        "  t = np.expand_dims(data[i,:,:],axis=0)\n",
        "  t = np.append(t, [[[3]]], axis = 1)\n",
        " \n",
        "  %cd\n",
        "  %cd /content/drive/My Drive/ECGadv-master/ProcessedData/Tilde\n",
        "  \n",
        "  np.save(\"Tilde_{}\".format(i),t)\n",
        "\n"
      ],
      "execution_count": null,
      "outputs": []
    },
    {
      "cell_type": "code",
      "metadata": {
        "colab_type": "code",
        "id": "Vxfq1xjhWbfB",
        "colab": {}
      },
      "source": [
        "dicti = {\n",
        "     0 : \"/content/drive/My Drive/ECGadv-master/ProcessedData/A\",\n",
        "     1 : \"/content/drive/My Drive/ECGadv-master/ProcessedData/N\",\n",
        "     2 : \"/content/drive/My Drive/ECGadv-master/ProcessedData/O\",\n",
        "     3 : \"/content/drive/My Drive/ECGadv-master/ProcessedData/Tilde\",\n",
        "}"
      ],
      "execution_count": null,
      "outputs": []
    },
    {
      "cell_type": "code",
      "metadata": {
        "colab_type": "code",
        "id": "9wjPxgSYWbfF",
        "colab": {}
      },
      "source": [
        "# MAKING RANDOM PAIRS OF ORIGINAL AND TARGET DATA\n",
        "# create folder in ECG_v1 called PairedDataPhysio\n",
        "# download Classifying Model from https://github.com/fernandoandreotti/cinc-challenge2017/blob/master/deeplearn-approach/ResNet_30s_34lay_16conv.hdf5\n",
        "\n",
        "import numpy as np\n",
        "from glob import glob\n",
        "\n",
        "from tensorflow.keras.models import load_model\n",
        "model = load_model(\"/content/drive/My Drive/ECG_v1/ResNet_30s_34lay_16conv.hdf5\")\n",
        "\n",
        "x = 0\n",
        "y = 0\n",
        "\n",
        "for j in range(4):\n",
        "  for k in range(4):\n",
        "    x = j\n",
        "    y = k\n",
        "    if(x == y):\n",
        "      continue\n",
        "    %cd\n",
        "    %cd /content/drive/My Drive/ECG_v1/PairedDataPhysio\n",
        "    p = \"ECG_MIT_orig\" + \"{}\".format(x) +\"_target\"+ \"{}\".format(y)\n",
        "    !mkdir $p\n",
        "    %cd $p  \n",
        "\n",
        "    for z in range(10):\n",
        "      base_o = dicti[x]\n",
        "      base_t = dicti[y]\n",
        "      paths_o = sorted(glob(base_o + \"/*.npy\"))\n",
        "      paths_t = sorted(glob(base_t + \"/*.npy\")) \n",
        "      num_o = np.random.randint(len(paths_o))\n",
        "      num_t = np.random.randint(len(paths_t))\n",
        "      o = np.load(paths_o[num_o])\n",
        "      t = np.load(paths_t[num_t])\n",
        "      if model.predict(o[:,:-1,:]).argmax() != o[:,-1,:]:\n",
        "        print(\"You messed up.\")\n",
        "      if model.predict(t[:,:-1,:]).argmax() != t[:,-1,:]:\n",
        "        print(\"You messed up v2\")\n",
        "      %cd\n",
        "      %cd /content/drive/My Drive/ECG_v1/PairedDataPhysio\n",
        "      %cd $p  \n",
        "      d = \"ECG_Pair{}\".format(z)\n",
        "      !mkdir $d\n",
        "      %cd $d \n",
        "      np.save(\"ECG_orig\"+\"{}_#{}\".format(x,z),o)\n",
        "      np.save(\"ECG_target\"+\"{}_#{}\".format(y,z),t)\n",
        "\n",
        "\n"
      ],
      "execution_count": null,
      "outputs": []
    },
    {
      "cell_type": "markdown",
      "metadata": {
        "id": "Ao39XL1yczEu",
        "colab_type": "text"
      },
      "source": [
        "**Boundary Attack Black Box**"
      ]
    },
    {
      "cell_type": "code",
      "metadata": {
        "id": "jKIqepVtXmr2",
        "colab_type": "code",
        "colab": {}
      },
      "source": [
        "# ATTACKING THE PROCESSED DATA\n",
        "%cd\n",
        "%cd /content/drive/My Drive/ECG_v1\n",
        "\n",
        "\n",
        "for i in range(4):\n",
        "  for j in range(4):\n",
        "    if(i == j):\n",
        "      continue\n",
        "    for k in range(10):\n",
        "      title = \"ECG_orig{}_target{}\".format(i,j) +\"/\" + \"ECG_Pair{}\".format(k)\n",
        "      !python attack.py --input_dir ./PairedDataPhysio/$title/ --store_dir ./results_8000_Physio/$title/ --net ./ecg_mit.hdf5 --max_steps 8000 --s --candidate\n",
        "    "
      ],
      "execution_count": null,
      "outputs": []
    },
    {
      "cell_type": "markdown",
      "metadata": {
        "id": "EIZuJpf6AmLm",
        "colab_type": "text"
      },
      "source": [
        "**Processing Paired Data to be attacked with PhysioNet White Box**"
      ]
    },
    {
      "cell_type": "code",
      "metadata": {
        "id": "EvlFho-q-cWH",
        "colab_type": "code",
        "colab": {}
      },
      "source": [
        "# install previous versions only for white box\n",
        "\n",
        "!pip install https://github.com/mind/wheels/releases/download/tf1.8-cpu/tensorflow-1.8.0-cp36-cp36m-linux_x86_64.whl\n",
        "!pip install keras==2.2\n",
        "!pip install cleverhans==2.1\n"
      ],
      "execution_count": null,
      "outputs": []
    },
    {
      "cell_type": "code",
      "metadata": {
        "id": "T68tIax4cMSZ",
        "colab_type": "code",
        "colab": {}
      },
      "source": [
        "# Creating a list with ALL INDICES OF ALL THE ORIGINAL ATTACK PAIRS FROM THE SOURCE CSV\n",
        "# each element of list contains: name(ECG_orig{}_target{}/ECG_Pair{}, original ECG index in agg_data, and original ECG index in agg_data)\n",
        "\n",
        "import scipy.io\n",
        "from glob import glob\n",
        "import numpy as np\n",
        "saved = []\n",
        "from natsort import natsorted\n",
        "\n",
        "agg_data = np.load(\"/content/drive/My Drive/ECGadv-master/ProcessedData/agg_data.npy\").reshape((8529,9000))\n",
        "agg_data = agg_data[:,:1000]\n",
        "\n",
        "for i in range(4):\n",
        "  for j in range(4):\n",
        "    if(i == j):\n",
        "      continue\n",
        "    for k in range(10):\n",
        "      title = \"ECG_orig{}_target{}\".format(i,j) +\"/\" + \"ECG_Pair{}\".format(k)\n",
        "      files = natsorted(glob(\"/content/drive/My Drive/ECG_v1/PairedDataPhysio\" + \"/\" + title + \"/*.npy\"))\n",
        "      individualSaved = [title]\n",
        "      for a in files:\n",
        "        # arrays has 2 files, original ECG and target ECG (paths)\n",
        "        print(a)\n",
        "        arr = np.load(a)\n",
        "        arr = np.squeeze(arr)[:1000]\n",
        "        index = (agg_data == arr).all(axis=1).argmax()\n",
        "        print(index)\n",
        "        individualSaved.append(index)\n",
        "      saved.append(individualSaved)\n",
        "\n",
        "# Ordered list, saved[0] contains the name and two files used in the attack,\n",
        "# 1st element is 0 -> 1, pair1\n",
        "# 2nd file is the original index, 3rd file is the target index     \n",
        "print(len(saved))\n",
        "np.save(\"/content/drive/My Drive/ECG_v1/IndicesData.npy\",saved)\n",
        "\n"
      ],
      "execution_count": null,
      "outputs": []
    },
    {
      "cell_type": "code",
      "metadata": {
        "id": "JXdzJjsigjyK",
        "colab_type": "code",
        "colab": {}
      },
      "source": [
        "import numpy as np\n",
        "\n",
        "x= np.load(\"/content/drive/My Drive/ECG_v1/IndicesData.npy\")\n",
        "x= np.array(x)\n",
        "# print(x)\n"
      ],
      "execution_count": null,
      "outputs": []
    },
    {
      "cell_type": "code",
      "metadata": {
        "id": "_eBdO3SlfbZR",
        "colab_type": "code",
        "colab": {
          "base_uri": "https://localhost:8080/",
          "height": 34
        },
        "outputId": "8d987344-ae55-4937-edb2-9711034768eb"
      },
      "source": [
        "# create dictionary with title and corresponding original ECG data set\n",
        "dict_index_title = {}\n",
        "z = 1\n",
        "for i in range(0,120):\n",
        "  orig = int(x[i][1])\n",
        "  title = x[i][0]\n",
        "  dict_index_title.update({title:orig})\n",
        "\n",
        "print(len(dict_index_title))"
      ],
      "execution_count": null,
      "outputs": [
        {
          "output_type": "stream",
          "text": [
            "120\n"
          ],
          "name": "stdout"
        }
      ]
    },
    {
      "cell_type": "code",
      "metadata": {
        "id": "Sxdm82Nvvvqm",
        "colab_type": "code",
        "colab": {}
      },
      "source": [
        "dicti = {\n",
        "     \"0\" : \"data_select_A.csv\",\n",
        "     \"1\" : \"data_select_N.csv\",\n",
        "     \"2\" : \"data_select_O.csv\",\n",
        "     \"3\" : \"data_select_i.csv\",\n",
        "}"
      ],
      "execution_count": null,
      "outputs": []
    },
    {
      "cell_type": "code",
      "metadata": {
        "id": "AhGAp_5j8EEm",
        "colab_type": "code",
        "colab": {}
      },
      "source": [
        "#WHITE BOX ATTACK CODE\n",
        "\n",
        "import csv\n",
        "import scipy.io\n",
        "\n",
        "for i in range(120)):\n",
        "  orig = x[i][1]\n",
        "  orig = int(orig)\n",
        "  print(orig)\n",
        "\n",
        "  title = x[i][0]\n",
        "\n",
        "  csvIndex = dicti[title[12:13]]\n",
        "  print(csvIndex)\n",
        "  \n",
        "  csvfile = np.array(list(csv.reader(open(\"/content/drive/My Drive/ECGadv-master/\" + csvIndex))))[:,3]                                                                                    \n",
        "  csvfile = [int(i) for i in csvfile]\n",
        "  csvfile = np.array(csvfile)\n",
        "  \n",
        "  index = np.where(csvfile==orig)[0][0]\n",
        "  print(index)\n",
        "  print(csvfile[index])\n",
        "  \n",
        "  index1 = index\n",
        "  index2 = index + 1\n",
        " \n",
        "\n",
        "  %cd\n",
        "  %cd /content/drive/My Drive/ECGadv-master\n",
        "\n",
        "  #smooth white box attack\n",
        "  !python ./cloud_eval_diff.py $csvIndex $index1 $index2\n",
        "\n",
        "  #l2 white box attack\n",
        "  #!python ./cloud_eval_l2.py $csvIndex $index1 $index2\n",
        "\n",
        "\n"
      ],
      "execution_count": null,
      "outputs": []
    }
  ]
}